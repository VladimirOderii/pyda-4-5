{
 "cells": [
  {
   "cell_type": "code",
   "execution_count": 18,
   "metadata": {},
   "outputs": [
    {
     "data": {
      "text/plain": [
       "array([9, 8, 7, 6, 5, 4, 3, 2, 1, 0])"
      ]
     },
     "execution_count": 18,
     "metadata": {},
     "output_type": "execute_result"
    }
   ],
   "source": [
    "# Task 1\n",
    "import numpy as np\n",
    "n=10\n",
    "a=np.zeros(shape=n, dtype=int) # заддим нулевой массив нужной размерности\n",
    "count=0\n",
    "while n>0:\n",
    "    a[count]=n-1\n",
    "    count+=1\n",
    "    n-=1\n",
    "a"
   ]
  },
  {
   "cell_type": "code",
   "execution_count": 16,
   "metadata": {},
   "outputs": [
    {
     "data": {
      "text/plain": [
       "45"
      ]
     },
     "execution_count": 16,
     "metadata": {},
     "output_type": "execute_result"
    }
   ],
   "source": [
    "# Task 2\n",
    "import numpy as np\n",
    "n=10\n",
    "a=np.zeros(shape=n, dtype=int) # задaдим нулевой массив нужной размерности\n",
    "count=0\n",
    "while n>0:\n",
    "    a[count]=n-1\n",
    "    count+=1\n",
    "    n-=1\n",
    "    \n",
    "a_diag=np.diag(a, k=0) # создадим диаганальную матрицу по массиву из 1 го задания\n",
    "sum(np.diag(a_diag))"
   ]
  },
  {
   "cell_type": "code",
   "execution_count": 21,
   "metadata": {},
   "outputs": [
    {
     "name": "stdout",
     "output_type": "stream",
     "text": [
      "[ 0.46666667  3.84444444 -5.55555556]\n"
     ]
    },
    {
     "data": {
      "text/plain": [
       "True"
      ]
     },
     "execution_count": 21,
     "metadata": {},
     "output_type": "execute_result"
    }
   ],
   "source": [
    "# Task 5\n",
    "\"\"\"Решите систему уравнений:\n",
    "4x + 2y + z = 4\n",
    "x + 3y = 12\n",
    "5y + 4z = -3\"\"\"\n",
    "a = np.array( [ [4, 2, 1], [1, 3, 0], [0, 5, 4] ] )\n",
    "b = np.array( [4, 12, -3] )\n",
    "\n",
    "from numpy import linalg\n",
    "print(linalg.solve(a, b)) # results\n",
    "np.allclose( np.dot(a, linalg.solve(a, b)), b ) # checking"
   ]
  },
  {
   "cell_type": "code",
   "execution_count": 34,
   "metadata": {},
   "outputs": [
    {
     "data": {
      "text/plain": [
       "240580.0"
      ]
     },
     "execution_count": 34,
     "metadata": {},
     "output_type": "execute_result"
    }
   ],
   "source": [
    "# Task 4\n",
    "import pandas as pd\n",
    "data = pd.read_csv('power.csv')\n",
    "# отфильтруем по странам Прибалтики\n",
    "filtered_countries = data[ (data['country']=='Latvia') | (data['country']=='Lithuania') | (data['country']=='Estonia') ]\n",
    "# отфильтруем по категориям\n",
    "filtered_countries = filtered_countries[(filtered_countries['category']==4) | (filtered_countries['category']==12) | (filtered_countries['category']==21)]\n",
    "# отфильтруем по годам\n",
    "filtered_countries = filtered_countries[(filtered_countries['year']==2005) | (filtered_countries['year']==2006)|\n",
    "                                       (filtered_countries['year']==2007) | (filtered_countries['year']==2008) |\n",
    "                                       (filtered_countries['year']==2009) | (filtered_countries['year']==2010)]\n",
    "# оставим только значения больше 0\n",
    "filtered_countries=filtered_countries[filtered_countries.quantity > 0]\n",
    "# посчитаем суммарное поребление\n",
    "filtered_countries['quantity'].sum()"
   ]
  },
  {
   "cell_type": "code",
   "execution_count": 58,
   "metadata": {},
   "outputs": [
    {
     "name": "stdout",
     "output_type": "stream",
     "text": [
      "318\n"
     ]
    },
    {
     "data": {
      "text/plain": [
       "277    Shawshank Redemption, The (1994)\n",
       "Name: title, dtype: object"
      ]
     },
     "execution_count": 58,
     "metadata": {},
     "output_type": "execute_result"
    }
   ],
   "source": [
    "# Task 3\n",
    "import pandas as pd\n",
    "data = pd.read_csv('ratings.csv')\n",
    "# Оставим только оценки 5\n",
    "fd=data[data.rating == 5.0]\n",
    "# Посчитаем сколько 5.0 было поставлено каждому фильму \n",
    "rating=fd.groupby('movieId').count().reset_index().sort_values('timestamp', ascending=False)\n",
    "# Вытащим ID лучшего фильма\n",
    "best_film=rating['movieId'].tolist()[0]\n",
    "print(best_film)\n",
    "# Найдем название фильма по его ID\n",
    "films = pd.read_csv('movies.csv')\n",
    "films[films['movieId']==best_film].title"
   ]
  },
  {
   "cell_type": "code",
   "execution_count": 14,
   "metadata": {},
   "outputs": [],
   "source": [
    "?np.diag"
   ]
  }
 ],
 "metadata": {
  "kernelspec": {
   "display_name": "Python 3",
   "language": "python",
   "name": "python3"
  },
  "language_info": {
   "codemirror_mode": {
    "name": "ipython",
    "version": 3
   },
   "file_extension": ".py",
   "mimetype": "text/x-python",
   "name": "python",
   "nbconvert_exporter": "python",
   "pygments_lexer": "ipython3",
   "version": "3.7.3"
  }
 },
 "nbformat": 4,
 "nbformat_minor": 2
}
